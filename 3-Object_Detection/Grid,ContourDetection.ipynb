{
 "cells": [
  {
   "cell_type": "code",
   "execution_count": 39,
   "metadata": {},
   "outputs": [],
   "source": [
    "import cv2\n",
    "import matplotlib.pyplot as plt\n",
    "import numpy as np\n",
    "%matplotlib inline"
   ]
  },
  {
   "cell_type": "markdown",
   "metadata": {},
   "source": [
    "#### GRID DETECTION\n",
    "Grid detection is often used to calibrate cameras and track motion.\n",
    "\n",
    "OpenCV has built in methods for tracking grids and chessboard like patterns."
   ]
  },
  {
   "cell_type": "code",
   "execution_count": 20,
   "metadata": {},
   "outputs": [
    {
     "data": {
      "text/plain": [
       "<matplotlib.image.AxesImage at 0x24debd7bd68>"
      ]
     },
     "execution_count": 20,
     "metadata": {},
     "output_type": "execute_result"
    },
    {
     "data": {
      "image/png": "[encoded data removed]",
      "text/plain": [
       "<Figure size 432x288 with 1 Axes>"
      ]
     },
     "metadata": {
      "needs_background": "light"
     },
     "output_type": "display_data"
    }
   ],
   "source": [
    "flat_chess = cv2.imread('Imagess/flat_chessboard.png')\n",
    "plt.imshow(flat_chess)"
   ]
  },
  {
   "cell_type": "code",
   "execution_count": 21,
   "metadata": {},
   "outputs": [
    {
     "name": "stdout",
     "output_type": "stream",
     "text": [
      "We found corners\n"
     ]
    }
   ],
   "source": [
    "#This method is actually specifically looking for the chess or checker board pattern. Usual grids do not go well with this method.\n",
    "\n",
    "found,corners = cv2.findChessboardCorners(flat_chess,(7,7))\n",
    "\n",
    "#The second argument is the grid size, 8*8 is not chosen as the model cannot identify the last ones.\n",
    "#(There is grid pattern only inside the last border, the function requires the corner to be fully surrounded)\n",
    "\n",
    "if (found):\n",
    "    print(\"We found corners\")\n",
    "else:\n",
    "    print(\"No corners found\")"
   ]
  },
  {
   "cell_type": "code",
   "execution_count": 22,
   "metadata": {},
   "outputs": [
    {
     "data": {
      "text/plain": [
       "array([[[ 43.500004,  43.500004]],\n",
       "\n",
       "       [[ 87.5     ,  43.5     ]],\n",
       "\n",
       "       [[131.5     ,  43.5     ]],\n",
       "\n",
       "       [[175.5     ,  43.5     ]],\n",
       "\n",
       "       [[219.5     ,  43.5     ]],\n",
       "\n",
       "       [[263.5     ,  43.5     ]],\n",
       "\n",
       "       [[307.5     ,  43.5     ]],\n",
       "\n",
       "       [[ 43.499996,  87.50001 ]],\n",
       "\n",
       "       [[ 87.5     ,  87.5     ]],\n",
       "\n",
       "       [[131.5     ,  87.5     ]],\n",
       "\n",
       "       [[175.5     ,  87.5     ]],\n",
       "\n",
       "       [[219.5     ,  87.5     ]],\n",
       "\n",
       "       [[263.5     ,  87.5     ]],\n",
       "\n",
       "       [[307.5     ,  87.49999 ]],\n",
       "\n",
       "       [[ 43.500004, 131.5     ]],\n",
       "\n",
       "       [[ 87.5     , 131.5     ]],\n",
       "\n",
       "       [[131.5     , 131.5     ]],\n",
       "\n",
       "       [[175.5     , 131.5     ]],\n",
       "\n",
       "       [[219.5     , 131.5     ]],\n",
       "\n",
       "       [[263.5     , 131.5     ]],\n",
       "\n",
       "       [[307.5     , 131.5     ]],\n",
       "\n",
       "       [[ 43.499996, 175.5     ]],\n",
       "\n",
       "       [[ 87.5     , 175.5     ]],\n",
       "\n",
       "       [[131.5     , 175.5     ]],\n",
       "\n",
       "       [[175.5     , 175.5     ]],\n",
       "\n",
       "       [[219.5     , 175.5     ]],\n",
       "\n",
       "       [[263.5     , 175.5     ]],\n",
       "\n",
       "       [[307.5     , 175.5     ]],\n",
       "\n",
       "       [[ 43.500004, 219.5     ]],\n",
       "\n",
       "       [[ 87.5     , 219.5     ]],\n",
       "\n",
       "       [[131.5     , 219.5     ]],\n",
       "\n",
       "       [[175.5     , 219.5     ]],\n",
       "\n",
       "       [[219.5     , 219.5     ]],\n",
       "\n",
       "       [[263.5     , 219.5     ]],\n",
       "\n",
       "       [[307.5     , 219.5     ]],\n",
       "\n",
       "       [[ 43.499996, 263.5     ]],\n",
       "\n",
       "       [[ 87.5     , 263.5     ]],\n",
       "\n",
       "       [[131.5     , 263.5     ]],\n",
       "\n",
       "       [[175.5     , 263.5     ]],\n",
       "\n",
       "       [[219.5     , 263.5     ]],\n",
       "\n",
       "       [[263.5     , 263.5     ]],\n",
       "\n",
       "       [[307.5     , 263.5     ]],\n",
       "\n",
       "       [[ 43.5     , 307.5     ]],\n",
       "\n",
       "       [[ 87.5     , 307.5     ]],\n",
       "\n",
       "       [[131.5     , 307.5     ]],\n",
       "\n",
       "       [[175.5     , 307.5     ]],\n",
       "\n",
       "       [[219.5     , 307.5     ]],\n",
       "\n",
       "       [[263.5     , 307.5     ]],\n",
       "\n",
       "       [[307.5     , 307.5     ]]], dtype=float32)"
      ]
     },
     "execution_count": 22,
     "metadata": {},
     "output_type": "execute_result"
    }
   ],
   "source": [
    "#Coordinaates of the corners:\n",
    "corners"
   ]
  },
  {
   "cell_type": "code",
   "execution_count": 23,
   "metadata": {},
   "outputs": [
    {
     "data": {
      "text/plain": [
       "<matplotlib.image.AxesImage at 0x24debdd6f60>"
      ]
     },
     "execution_count": 23,
     "metadata": {},
     "output_type": "execute_result"
    },
    {
     "data": {
      "image/png": "[encoded data removed]",
      "text/plain": [
       "<Figure size 432x288 with 1 Axes>"
      ]
     },
     "metadata": {
      "needs_background": "light"
     },
     "output_type": "display_data"
    }
   ],
   "source": [
    "cv2.drawChessboardCorners(flat_chess,(7,7),corners,found)\n",
    "plt.imshow(flat_chess)\n",
    "\n",
    "#This basically marks the corners, and rows in different colors.\n",
    "#It connects them with zigzag lines."
   ]
  },
  {
   "cell_type": "markdown",
   "metadata": {},
   "source": [
    "### CONTOUR DETECTON\n",
    "Contours are defined as a curve joining all the continuous points (along the boundary) having the same color or intensity.\n",
    "\n",
    "They are a useful tool for shape analysis and object detection/recognition."
   ]
  },
  {
   "cell_type": "markdown",
   "metadata": {},
   "source": [
    "OpenCV has a built in contour finder that can also help us differentiate between internal and external contours."
   ]
  },
  {
   "cell_type": "code",
   "execution_count": 30,
   "metadata": {},
   "outputs": [
    {
     "data": {
      "text/plain": [
       "(652, 1080)"
      ]
     },
     "execution_count": 30,
     "metadata": {},
     "output_type": "execute_result"
    }
   ],
   "source": [
    "img = cv2.imread('Imagess/internal_external.png',0)\n",
    "img.shape"
   ]
  },
  {
   "cell_type": "code",
   "execution_count": 31,
   "metadata": {},
   "outputs": [
    {
     "data": {
      "text/plain": [
       "<matplotlib.image.AxesImage at 0x24debee79b0>"
      ]
     },
     "execution_count": 31,
     "metadata": {},
     "output_type": "execute_result"
    },
    {
     "data": {
      "image/png": "[encoded data removed]",
      "text/plain": [
       "<Figure size 432x288 with 1 Axes>"
      ]
     },
     "metadata": {
      "needs_background": "light"
     },
     "output_type": "display_data"
    }
   ],
   "source": [
    "plt.imshow(img, cmap='gray')"
   ]
  },
  {
   "cell_type": "markdown",
   "metadata": {},
   "source": [
    "In the above picture, internal contours are the eyes and mouth of the smiley face, and the dots on the pizza or pacman(or whatever that is)\n",
    "\n",
    "The external contours are the shapes themselves, the triangle, circle and the pacman"
   ]
  },
  {
   "cell_type": "markdown",
   "metadata": {},
   "source": [
    "**findContours**\n",
    "\n",
    "function will return back contours in an image, and based on the RETR method called, you can get back external, internal, or both:\n",
    "\n",
    "* cv2.RETR_EXTERNAL:Only extracts external contours\n",
    "* cv2.RETR_CCOMP: Extracts both internal and external contours organized in a two-level hierarchy\n",
    "* cv2.RETR_TREE: Extracts both internal and external contours organized in a  tree graph\n",
    "* cv2.RETR_LIST: Extracts all contours without any internal/external relationship"
   ]
  },
  {
   "cell_type": "code",
   "execution_count": 32,
   "metadata": {},
   "outputs": [],
   "source": [
    "image, contours, hierarchy = cv2.findContours(img, cv2.RETR_CCOMP, cv2.CHAIN_APPROX_SIMPLE)"
   ]
  },
  {
   "cell_type": "code",
   "execution_count": 33,
   "metadata": {},
   "outputs": [
    {
     "data": {
      "text/plain": [
       "list"
      ]
     },
     "execution_count": 33,
     "metadata": {},
     "output_type": "execute_result"
    }
   ],
   "source": [
    "type(contours)"
   ]
  },
  {
   "cell_type": "code",
   "execution_count": 34,
   "metadata": {},
   "outputs": [
    {
     "data": {
      "text/plain": [
       "22"
      ]
     },
     "execution_count": 34,
     "metadata": {},
     "output_type": "execute_result"
    }
   ],
   "source": [
    "len(contours)"
   ]
  },
  {
   "cell_type": "code",
   "execution_count": 35,
   "metadata": {},
   "outputs": [
    {
     "data": {
      "text/plain": [
       "numpy.ndarray"
      ]
     },
     "execution_count": 35,
     "metadata": {},
     "output_type": "execute_result"
    }
   ],
   "source": [
    "type(hierarchy)"
   ]
  },
  {
   "cell_type": "code",
   "execution_count": 36,
   "metadata": {},
   "outputs": [
    {
     "data": {
      "text/plain": [
       "(1, 22, 4)"
      ]
     },
     "execution_count": 36,
     "metadata": {},
     "output_type": "execute_result"
    }
   ],
   "source": [
    "hierarchy.shape"
   ]
  },
  {
   "cell_type": "code",
   "execution_count": 37,
   "metadata": {},
   "outputs": [
    {
     "data": {
      "text/plain": [
       "array([[[ 4, -1,  1, -1],\n",
       "        [ 2, -1, -1,  0],\n",
       "        [ 3,  1, -1,  0],\n",
       "        [-1,  2, -1,  0],\n",
       "        [21,  0,  5, -1],\n",
       "        [ 6, -1, -1,  4],\n",
       "        [ 7,  5, -1,  4],\n",
       "        [ 8,  6, -1,  4],\n",
       "        [ 9,  7, -1,  4],\n",
       "        [10,  8, -1,  4],\n",
       "        [11,  9, -1,  4],\n",
       "        [12, 10, -1,  4],\n",
       "        [13, 11, -1,  4],\n",
       "        [14, 12, -1,  4],\n",
       "        [15, 13, -1,  4],\n",
       "        [16, 14, -1,  4],\n",
       "        [17, 15, -1,  4],\n",
       "        [18, 16, -1,  4],\n",
       "        [19, 17, -1,  4],\n",
       "        [20, 18, -1,  4],\n",
       "        [-1, 19, -1,  4],\n",
       "        [-1,  4, -1, -1]]], dtype=int32)"
      ]
     },
     "execution_count": 37,
     "metadata": {},
     "output_type": "execute_result"
    }
   ],
   "source": [
    "hierarchy"
   ]
  },
  {
   "cell_type": "code",
   "execution_count": 40,
   "metadata": {},
   "outputs": [],
   "source": [
    "# Draw External Contours\n",
    "\n",
    "# Set up empty array\n",
    "external_contours = np.zeros(image.shape)\n",
    "\n",
    "# For every entry in contours\n",
    "for i in range(len(contours)):\n",
    "    \n",
    "    # last column in the array is -1 if an external contour (no contours inside of it)\n",
    "    if hierarchy[0][i][3] == -1:\n",
    "        \n",
    "        # We can now draw the external contours from the list of contours\n",
    "        cv2.drawContours(external_contours, contours, i, 255, -1)"
   ]
  },
  {
   "cell_type": "code",
   "execution_count": 41,
   "metadata": {},
   "outputs": [
    {
     "data": {
      "text/plain": [
       "<matplotlib.image.AxesImage at 0x24dec6975f8>"
      ]
     },
     "execution_count": 41,
     "metadata": {},
     "output_type": "execute_result"
    },
    {
     "data": {
      "image/png": "[encoded data removed]",
      "text/plain": [
       "<Figure size 432x288 with 1 Axes>"
      ]
     },
     "metadata": {
      "needs_background": "light"
     },
     "output_type": "display_data"
    }
   ],
   "source": [
    "plt.imshow(external_contours, cmap = 'gray')"
   ]
  },
  {
   "cell_type": "code",
   "execution_count": 42,
   "metadata": {},
   "outputs": [],
   "source": [
    "# Create empty array to hold internal contours\n",
    "image_internal = np.zeros(image.shape)\n",
    "\n",
    "# Iterate through list of contour arrays\n",
    "for i in range(len(contours)):\n",
    "    # If third column value is NOT equal to -1 than its internal\n",
    "    if hierarchy[0][i][3] != -1:\n",
    "        \n",
    "        # Draw the Contour\n",
    "        cv2.drawContours(image_internal, contours, i, 255, -1)\n",
    "        "
   ]
  },
  {
   "cell_type": "code",
   "execution_count": 43,
   "metadata": {},
   "outputs": [
    {
     "data": {
      "text/plain": [
       "<matplotlib.image.AxesImage at 0x24dec80ca90>"
      ]
     },
     "execution_count": 43,
     "metadata": {},
     "output_type": "execute_result"
    },
    {
     "data": {
      "image/png": "[encoded data removed]",
      "text/plain": [
       "<Figure size 432x288 with 1 Axes>"
      ]
     },
     "metadata": {
      "needs_background": "light"
     },
     "output_type": "display_data"
    }
   ],
   "source": [
    "plt.imshow(image_internal,cmap='gray')"
   ]
  },
  {
   "cell_type": "code",
   "execution_count": null,
   "metadata": {},
   "outputs": [],
   "source": []
  }
 ],
 "metadata": {
  "kernelspec": {
   "display_name": "python-cvcourse",
   "language": "python",
   "name": "python3"
  },
  "language_info": {
   "codemirror_mode": {
    "name": "ipython",
    "version": 3
   },
   "file_extension": ".py",
   "mimetype": "text/x-python",
   "name": "python",
   "nbconvert_exporter": "python",
   "pygments_lexer": "ipython3",
   "version": "3.6.6"
  },
  "orig_nbformat": 4
 },
 "nbformat": 4,
 "nbformat_minor": 2
}
