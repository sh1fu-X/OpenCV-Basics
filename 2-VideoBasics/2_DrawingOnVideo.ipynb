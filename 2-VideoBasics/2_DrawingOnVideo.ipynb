{
 "cells": [
  {
   "cell_type": "markdown",
   "metadata": {},
   "source": [
    "#### Drawing a rectangle on the video\n"
   ]
  },
  {
   "cell_type": "code",
   "execution_count": 1,
   "metadata": {},
   "outputs": [],
   "source": [
    "import cv2\n",
    "\n",
    "cap = cv2.VideoCapture(0)\n",
    "\n",
    "width = int(cap.get(cv2.CAP_PROP_FRAME_WIDTH))\n",
    "height = int(cap.get(cv2.CAP_PROP_FRAME_HEIGHT))\n",
    "\n",
    "\n",
    "#TOP LEFT CORNER COORDINATES:\n",
    "x = width // 2   # Using double slash to make sure X and Y are integers\n",
    "y = height // 2\n",
    "\n",
    "#WIDTH AND HEIGHT OF THE RECTANGLE:\n",
    "w = width //4\n",
    "h = height //4\n",
    "\n",
    "#So,now the bottom right corner is (x+w,y+h)\n",
    "\n",
    "while True:\n",
    "\n",
    "    ret,frame = cap.read()\n",
    "\n",
    "    cv2.rectangle(frame,(x,y),(x+w,y+h),color=(255,0,0),thickness=4)\n",
    "\n",
    "    cv2.imshow('frame',frame)\n",
    "    \n",
    "    if cv2.waitKey(1) & 0xFF == ord('q'):\n",
    "        break\n",
    "\n",
    "cap.release()\n",
    "cv2.destroyAllWindows()"
   ]
  },
  {
   "cell_type": "markdown",
   "metadata": {},
   "source": [
    "### Drawing with mouse"
   ]
  },
  {
   "cell_type": "code",
   "execution_count": 4,
   "metadata": {},
   "outputs": [],
   "source": [
    "import cv2 #\n",
    "cap2 = cv2.VideoCapture(0)\n",
    "\n",
    "#CALLBACK FUNCTION RECTANGLE\n",
    "def drawRectangle(event,x,y,flags,param):\n",
    "\n",
    "    global pt1,pt2,topLeftClicked,bottomRightClicked\n",
    "    if event == cv2.EVENT_LBUTTONDOWN:\n",
    "\n",
    "        #Reset the rectangle (It checks if the rectangle is already there)\n",
    "        if topLeftClicked and bottomRightClicked == True:\n",
    "            pt1 = (0,0) \n",
    "            pt2 = (0,0) \n",
    "\n",
    "            topLeftClicked= False\n",
    "            bottomRightClicked = False\n",
    "\n",
    "        if topLeftClicked == False:\n",
    "            pt1 = (x,y)\n",
    "            topLeftClicked = True\n",
    "\n",
    "        elif bottomRightClicked == False:\n",
    "            pt2 = (x,y)\n",
    "            bottomRightClicked = True\n",
    "\n",
    "#GLOBAL VARIABLES\n",
    "pt1 = (0,0) #top left corner\n",
    "pt2 = (0,0) #bottom right corner\n",
    "\n",
    "topLeftClicked= False\n",
    "bottomRightClicked = False\n",
    "\n",
    "#Connect to the callback\n",
    "cap2 = cv2.VideoCapture(0)\n",
    "\n",
    "cv2.namedWindow('Test')\n",
    "cv2.setMouseCallback('Test', drawRectangle)\n",
    "\n",
    "while True:\n",
    "\n",
    "    ret,frame = cap2.read()\n",
    "\n",
    "    # DRAWING ON THE FRAME BASED OFF THE GLOBAL VARIBLES\n",
    "    if topLeftClicked: #first click will be your point 1\n",
    "        cv2.circle(frame,center=pt1,radius=5,color=(0,0,255),thickness=-1)\n",
    "\n",
    "    if topLeftClicked and bottomRightClicked:\n",
    "        cv2.rectangle(frame,pt1,pt2,(0,0,255),3)\n",
    "\n",
    "    cv2.imshow('Test',frame)\n",
    "    \n",
    "    if cv2.waitKey(1) & 0xFF == ord('q'):\n",
    "        break\n",
    "\n",
    "cap2.release()\n",
    "cv2.destroyAllWindows()"
   ]
  },
  {
   "cell_type": "code",
   "execution_count": null,
   "metadata": {},
   "outputs": [],
   "source": []
  }
 ],
 "metadata": {
  "kernelspec": {
   "display_name": "python-cvcourse",
   "language": "python",
   "name": "python3"
  },
  "language_info": {
   "codemirror_mode": {
    "name": "ipython",
    "version": 3
   },
   "file_extension": ".py",
   "mimetype": "text/x-python",
   "name": "python",
   "nbconvert_exporter": "python",
   "pygments_lexer": "ipython3",
   "version": "3.6.6"
  },
  "orig_nbformat": 4
 },
 "nbformat": 4,
 "nbformat_minor": 2
}
