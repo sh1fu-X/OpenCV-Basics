{
 "cells": [
  {
   "cell_type": "markdown",
   "metadata": {},
   "source": [
    "### Connecting to your webcam.\n",
    "The following code allows you to connect to your webcam.\n",
    "\n",
    "The writer function is used to read the video you're viewing through the webcam into a new mp4 file in the designated location"
   ]
  },
  {
   "cell_type": "code",
   "execution_count": 4,
   "metadata": {},
   "outputs": [],
   "source": [
    "import cv2\n",
    "\n",
    "# Initializing webcam\n",
    "cap = cv2.VideoCapture(0)\n",
    "\n",
    "width = int(cap.get(cv2.CAP_PROP_FRAME_WIDTH))\n",
    "height = int(cap.get(cv2.CAP_PROP_FRAME_HEIGHT))\n",
    "\n",
    "\n",
    "\n",
    "#********** this line of code writes the webcam capture into an mp4 file *********\n",
    "\n",
    "writer = cv2.VideoWriter('myVideo.mp4',cv2.VideoWriter_fourcc(*'DVIX'),20,(width,height))\n",
    "\n",
    "#fourcc is a 4-byte code used to specify the video codec\n",
    "#DIVX is used in Windows (XVID for linux/mac)\n",
    "\n",
    "while True:\n",
    "    # Capture frame-by-frame\n",
    "    ret, frame = cap.read()\n",
    "\n",
    "    writer.write(frame) #reads each frame \n",
    "\n",
    "    # Display the resulting frame\n",
    "    cv2.imshow('Webcam', frame)\n",
    "\n",
    "    # Check for the 'q' key to exit the loop\n",
    "    if cv2.waitKey(1) & 0xFF == ord('q'):\n",
    "        break\n",
    "\n",
    "\n",
    "cap.release() # Release the webcam\n",
    "writer.release() # Release the writer\n",
    "cv2.destroyAllWindows() #close the window"
   ]
  },
  {
   "cell_type": "markdown",
   "metadata": {},
   "source": [
    "#### Using Video Files"
   ]
  },
  {
   "cell_type": "markdown",
   "metadata": {},
   "source": []
  }
 ],
 "metadata": {
  "kernelspec": {
   "display_name": "python-cvcourse",
   "language": "python",
   "name": "python3"
  },
  "language_info": {
   "codemirror_mode": {
    "name": "ipython",
    "version": 3
   },
   "file_extension": ".py",
   "mimetype": "text/x-python",
   "name": "python",
   "nbconvert_exporter": "python",
   "pygments_lexer": "ipython3",
   "version": "3.6.6"
  },
  "orig_nbformat": 4
 },
 "nbformat": 4,
 "nbformat_minor": 2
}
